{
 "cells": [
  {
   "cell_type": "markdown",
   "metadata": {
    "slideshow": {
     "slide_type": "slide"
    }
   },
   "source": [
    "# Exascale continuum mechanics through code generation\n",
    "\n"
   ]
  },
  {
   "cell_type": "markdown",
   "metadata": {
    "slideshow": {
     "slide_type": "slide"
    }
   },
   "source": [
    "## Workshops:\n",
    "| Date |  |\n",
    "|---|---|\n",
    "| [24th - 25th November](https://excalibur-genx.github.io/community-workshop) | GenX Workshop |\n"
   ]
  },
  {
   "cell_type": "markdown",
   "metadata": {
    "slideshow": {
     "slide_type": "slide"
    }
   },
   "source": [
    "## Webinars:\n",
    "\n",
    "| Date |\n",
    "|---|\n",
    "| TBA |"
   ]
  },
  {
   "cell_type": "markdown",
   "metadata": {
    "slideshow": {
     "slide_type": "slide"
    }
   },
   "source": [
    "## Our research\n",
    "\n",
    "Continuous physical systems whose behaviour can be modelled by partial differential equations (PDEs) are ubiquitous throughout science and engineering.\n",
    "For example, PDEs describe flow past aircraft and through jet turbines, the propagation of earthquakes, the motion of the weather, the electrical behaviour of the heart and brain, the deformation of a helmet during impact, and many other things besides.\n",
    "In all but the simplest cases, analytic solutions to PDE models are unknown or do not exist.\n",
    "Consequently, simulations based on the numerical solution of PDEs are an indispensable tool in the practical realisation of almost all high-technology industrial systems.\n",
    "Furthermore, many of the key continuum mechanics systems of scientific and engineering significance are spectacularly multiscale in nature.\n",
    "\n",
    "For example an aircraft might be 100m long, but flow perturbations at the millimeter scale impact on efficiency, performance, and noise pollution.\n",
    "A seismological simulation will need to resolve waves travelling at thousands of metres per second over a domain thousands of kilometres wide while representing fault structures at scales of only tens of metres.\n",
    "This results in simulations that may need to compute billions of unknown values at each of millions of time steps.\n",
    "These characteristics have meant that continuum mechanics has an unbounded appetite for computational power that has exceeded current capacity from the dawn of computing to the present day, yielding ever greater capability in modelling yet more complex phenomena, at higher resolution, with massive potential for further application impact."
   ]
  },
  {
   "cell_type": "markdown",
   "metadata": {
    "slideshow": {
     "slide_type": "slide"
    }
   },
   "source": [
    "Writing bespoke software for a single continuum mechanics problem is beset with difficulties:\n",
    "the cost is prohibitive, the group undertaking the work cannot possibly have leading expertise in all of the required areas, and the resulting software will be exceptionally complex and correspondingly difficult to maintain and extend.\n",
    "This last point is the most critical:\n",
    "change is the rule and not the exception in continuum mechanics simulation:\n",
    "1. New science and engineering needs change the required PDEs, parametrisations, and outer loop.\n",
    "2. The optimal discretisations, solvers, and preconditioners are the subject of active research and depend on the scenario and hardware.\n",
    "3. The hardware landscape is increasingly diverse: instruction sets, vector lengths, and memory hierarchies differ between supercomputers and evolve rapidly. This requires highly invasive changes to the implementations of core model components, which depend algorithm and hardware.\n",
    "\n",
    "If extreme scale computing is to realise its potential across continuum mechanics as a whole, and not just\n",
    "in a small number of expensive and inflexible hero projects, then a radically different approach is required;\n",
    "one in which an effective separation of concerns is achieved between different algorithmic components,\n",
    "enabling simulation developers and users to compose together the optimal chain of algorithms for the\n",
    "science or engineering challenge at hand, and have the algorithms execute with high performance on\n",
    "the hardware available without the need to reimplement the component algorithms."
   ]
  },
  {
   "cell_type": "markdown",
   "metadata": {
    "slideshow": {
     "slide_type": "slide"
    }
   },
   "source": [
    "## Workshops and Webinars\n",
    "\n",
    "As part of the working group we will be holding a series of worksops and webinars.\n",
    "\n",
    "Our first workshop will be held on [24th - 25th November](https://excalibur-genx.github.io/community-workshop).\n",
    "The workshop will work in changing groups to answer three core questions:\n",
    "- What new science and engineering could exascale continuum mechanics simulation deliver?\n",
    "- What component processes do each science or engineering application depend on?\n",
    "- What needs to change in each component process to make exascale simulation a reality?"
   ]
  },
  {
   "cell_type": "markdown",
   "metadata": {
    "slideshow": {
     "slide_type": "slide"
    }
   },
   "source": []
  }
 ],
 "metadata": {
  "celltoolbar": "Slideshow",
  "kernelspec": {
   "display_name": "Python 3",
   "language": "python",
   "name": "python3"
  },
  "language_info": {
   "codemirror_mode": {
    "name": "ipython",
    "version": 3
   },
   "file_extension": ".py",
   "mimetype": "text/x-python",
   "name": "python",
   "nbconvert_exporter": "python",
   "pygments_lexer": "ipython3",
   "version": "3.8.6"
  }
 },
 "nbformat": 4,
 "nbformat_minor": 2
}
